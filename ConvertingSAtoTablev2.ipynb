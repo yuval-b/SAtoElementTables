{
 "cells": [
  {
   "cell_type": "markdown",
   "id": "17d44be0",
   "metadata": {},
   "source": [
    "# Solution Architecture to Element Tables\n",
    "\n",
    "The below code is designed to convert two exports of data (shapes, edges) from the solution architecture Visio diagrams and get it into an element table, which lists all the shapes, their type, and relationship.\n",
    "\n",
    "Version 2: trying to address some of the outstanding problems in the original code.\n",
    "\n",
    "Author: Yuval Berman, July 2023"
   ]
  },
  {
   "cell_type": "markdown",
   "id": "ccffa9a7",
   "metadata": {},
   "source": [
    "Outstanding problems (in approximate order of importance & effort to fix)\n",
    "\n",
    "### Done:\n",
    "- Is the shape ID correct, considering there was a double up in the infrastructure table between a couple of shapes? Maybe look at matching based on all of \"Shape Name\" rather than just the ID - **done, that worked**\n",
    "- \"Type\" may have to change where it is inferred from, as the Infrastructure table broke it. It may be should be inferred from Master, or Archimate Type? **done, it is now based on \"ArchiMateType\" column**\n",
    "- Combined element tables for processes - **done, they need to be on the same page though**\n",
    "- Understanding why some have double entries and fixing it **the solution for combining element tables should address this**\n",
    "- Merge shapes that have the same ID / name? - **should be done based on solution for combining element tables**\n",
    "- If there is no relationship, add \"N/A\" - **done**\n",
    "- Remove newlines ('\\n') in shape names - **done**\n",
    "- If there are arrows that face both ways, is there a way to record this relationship? Is this data available in our exports? - Yes, in \"Directionality\" column - add this to the code. **done**\n",
    "\n",
    "\n",
    "### To be done:\n",
    "- _Existing / New / Modified - may not be able to do_\n",
    "- _If there are arrows that face both ways, is there a way to record this relationship? Is this data available in our exports? - Yes, in \"Directionality\" column - add this to the code._\n",
    "- _Remove arrow lables / floating shapes (e.g. HTTPS) from showing up in the final elements table - may not be able to do_\n",
    "- _Filter out \"Groups\"_\n",
    "- Sort alphabetically\n",
    "- Maybe find a way to automate some of the common errors??\n",
    "There also may be errors that are hard to pick up / address (such as the Master Name being used for EndX rather than the Shape Name...)\n",
    "\n",
    "\n",
    "This should be ready to plug and play now. If the diagrams were perfect, then there is potential for automating it further so it does all files in a directory, but the fact that we have to filter the errors makes this harder."
   ]
  },
  {
   "cell_type": "code",
   "execution_count": 1,
   "id": "dd8c7658",
   "metadata": {},
   "outputs": [],
   "source": [
    "import pandas as pd\n",
    "import numpy as np\n",
    "import os"
   ]
  },
  {
   "cell_type": "code",
   "execution_count": 2,
   "id": "c7acd240",
   "metadata": {},
   "outputs": [
    {
     "data": {
      "text/plain": [
       "['BBABusinessFunction.csv',\n",
       " 'BBAManageDataClassification.csv',\n",
       " 'BBAManageDLPFrameworkProcesses.csv',\n",
       " 'BBAManageSecurityIncidents.csv',\n",
       " 'TBABusinessFunction.csv',\n",
       " 'TBADocumentLabellingAndProtection.csv',\n",
       " 'TBADocumentTransmissionSharing.csv',\n",
       " 'TBAManageCloudUsage.csv',\n",
       " 'TBAManageDataClassification.csv',\n",
       " 'TBAManageDLPFrameworkProcesses.csv',\n",
       " 'TBAManageDLPPlatform.csv',\n",
       " 'TBAManageDLPPolicies.csv',\n",
       " 'TBAManageDLPProfiles.csv',\n",
       " 'TBAManageDLPReporting.csv',\n",
       " 'TBAManageDLPSupportingInfrastructure.csv',\n",
       " 'TBAManageSecurityIncidents.csv',\n",
       " 'TBAManageSensitivityLabelPlatform.csv']"
      ]
     },
     "execution_count": 2,
     "metadata": {},
     "output_type": "execute_result"
    }
   ],
   "source": [
    "os.listdir(\"C:/Users/MB273QG/Downloads/DLPShapesExports/\")"
   ]
  },
  {
   "cell_type": "code",
   "execution_count": 118,
   "id": "a64f5695",
   "metadata": {},
   "outputs": [],
   "source": [
    "# Read in the data, don't forget to change path name when needed.\n",
    "\n",
    "name = 'TBAManageCloudUsage'\n",
    "\n",
    "shapes = pd.read_csv(\"C:/Users/MB273QG/Downloads/DLPShapesExports/\"+name+\".csv\",skiprows = 1)\n",
    "arrows = pd.read_excel(\"C:/Users/MB273QG/Downloads/DLPEdgesExports/\"+name+\".xlsx\",'Here')\n",
    "#arrows = pd.read_csv(\"C:/Users/MB273QG/Downloads/EdgesExports/TargetInfraNet1.csv\")"
   ]
  },
  {
   "cell_type": "code",
   "execution_count": 119,
   "id": "3126e681",
   "metadata": {},
   "outputs": [],
   "source": [
    "def initial_data_cleaning(shapes,arrows):\n",
    "    # Get the relevant information about the arrows\n",
    "    arrows = arrows.dropna(how='any')\n",
    "    beginarrow = [(x+\"(.X!\").split('(')[2].split('!')[0] for x in list(arrows['BeginX'])]\n",
    "    endarrow = [(x+\"(.X!\").split('(')[2].split('!')[0] for x in list(arrows['EndX'])]\n",
    "    \n",
    "    arrows['BeginShape'] = beginarrow\n",
    "    arrows['EndShape']   = endarrow \n",
    "\n",
    "\n",
    "    # Merge Arrows and Shapes DFs\n",
    "    arrows = arrows.merge(shapes, left_on='ShapeKey', right_on='Shape ID', how='left')\n",
    "    arrows['Relationship'] = [x.split('.')[0] for x in list(arrows['Shape Name'])]\n",
    "    arrows.loc[arrows[\"Directionality\"] == \"Both Directions\", \"Relationship\"] = \"AccessBoth\" \n",
    "    arrows = arrows.dropna(axis=1)\n",
    "    arrows = arrows.drop(columns = ['Height', 'Shape ID', 'Width', 'X Location', 'Y Location', 'ArchiMateLayer', 'Master Name','ArchiMateType'])\n",
    "\n",
    "    # Get the relevant information about shapes\n",
    "    shapes = shapes.dropna(subset = ['Master Name', 'Displayed Text'])\n",
    "    shapes = shapes.dropna(axis=1)\n",
    "    shapes = shapes.reset_index(drop=True)\n",
    "    \n",
    "    # Get rid of newline characters\n",
    "    text = list(shapes['Displayed Text'])\n",
    "    newtext = []\n",
    "    for item in list(shapes['Displayed Text']):\n",
    "        newtext.append(item.replace(\"\\n\",\" \"))\n",
    "    shapes['Displayed Text'] = newtext\n",
    "    \n",
    "    return shapes, arrows"
   ]
  },
  {
   "cell_type": "code",
   "execution_count": 120,
   "id": "84b3c041",
   "metadata": {},
   "outputs": [
    {
     "name": "stderr",
     "output_type": "stream",
     "text": [
      "C:\\Users\\MB273QG\\AppData\\Local\\Temp/ipykernel_27012/3507410024.py:7: SettingWithCopyWarning: \n",
      "A value is trying to be set on a copy of a slice from a DataFrame.\n",
      "Try using .loc[row_indexer,col_indexer] = value instead\n",
      "\n",
      "See the caveats in the documentation: https://pandas.pydata.org/pandas-docs/stable/user_guide/indexing.html#returning-a-view-versus-a-copy\n",
      "  arrows['BeginShape'] = beginarrow\n",
      "C:\\Users\\MB273QG\\AppData\\Local\\Temp/ipykernel_27012/3507410024.py:8: SettingWithCopyWarning: \n",
      "A value is trying to be set on a copy of a slice from a DataFrame.\n",
      "Try using .loc[row_indexer,col_indexer] = value instead\n",
      "\n",
      "See the caveats in the documentation: https://pandas.pydata.org/pandas-docs/stable/user_guide/indexing.html#returning-a-view-versus-a-copy\n",
      "  arrows['EndShape']   = endarrow\n"
     ]
    }
   ],
   "source": [
    "shapes, arrows = initial_data_cleaning(shapes,arrows)"
   ]
  },
  {
   "cell_type": "markdown",
   "id": "923116fc",
   "metadata": {},
   "source": [
    "Now that everything has been initialised, there are some problems we may have to solve if there are issues in the data.'\n",
    "\n",
    "Firstly, check the arrows database to see if there is an \"X\" in either the BeginShape or EndShape columns. If this is the case it means that the arrow wasn't recorded properly (potentially not being linked to the shape correctly). You can go directly into the drawing to fix this, or you can edit the data directly. To do this: \n",
    "1. Work out the name of the shape that the arrow starts / ends in. Do this by using the .loc command on the ID of the shape.\n",
    "2. Look at the original Visio diagram to see if you can work out the arrow that is being problematic, based on the shape and arrow relationship (if you can't tell which one, work out if the other shapes around it have their arrows recorded properly)\n",
    "3. Use the .loc command again to work out the ID of the shape that wasn't recorded properly (however now find it based on the \"Displayed Text\" field.\n",
    "4. Change the data to fit the format of others, with the new shape ID you found.\n",
    "5. Read the data in again."
   ]
  },
  {
   "cell_type": "code",
   "execution_count": 121,
   "id": "acc7903a",
   "metadata": {},
   "outputs": [],
   "source": [
    "pd.set_option('max_row', None)"
   ]
  },
  {
   "cell_type": "code",
   "execution_count": 4,
   "id": "43eb636b",
   "metadata": {
    "scrolled": false
   },
   "outputs": [],
   "source": [
    "#arrows"
   ]
  },
  {
   "cell_type": "code",
   "execution_count": 123,
   "id": "f6d8b1cd",
   "metadata": {},
   "outputs": [
    {
     "data": {
      "text/html": [
       "<div>\n",
       "<style scoped>\n",
       "    .dataframe tbody tr th:only-of-type {\n",
       "        vertical-align: middle;\n",
       "    }\n",
       "\n",
       "    .dataframe tbody tr th {\n",
       "        vertical-align: top;\n",
       "    }\n",
       "\n",
       "    .dataframe thead th {\n",
       "        text-align: right;\n",
       "    }\n",
       "</style>\n",
       "<table border=\"1\" class=\"dataframe\">\n",
       "  <thead>\n",
       "    <tr style=\"text-align: right;\">\n",
       "      <th></th>\n",
       "      <th>Displayed Text</th>\n",
       "      <th>Height</th>\n",
       "      <th>Master Name</th>\n",
       "      <th>Shape ID</th>\n",
       "      <th>Shape Name</th>\n",
       "      <th>Width</th>\n",
       "      <th>X Location</th>\n",
       "      <th>Y Location</th>\n",
       "      <th>ArchiMateAspect</th>\n",
       "      <th>ArchiMateLayer</th>\n",
       "      <th>...</th>\n",
       "      <th>IconWidth</th>\n",
       "      <th>ShapeLayout</th>\n",
       "      <th>ShowLayer</th>\n",
       "      <th>TextHeight</th>\n",
       "      <th>TextLayout</th>\n",
       "      <th>TextLocPinX</th>\n",
       "      <th>TextLocPinY</th>\n",
       "      <th>TextPinX</th>\n",
       "      <th>TextPinY</th>\n",
       "      <th>TextWidth</th>\n",
       "    </tr>\n",
       "  </thead>\n",
       "  <tbody>\n",
       "    <tr>\n",
       "      <th>24</th>\n",
       "      <td>Tag as sanctioned in the DLP solution</td>\n",
       "      <td>19.05 mm</td>\n",
       "      <td>Business Process.5006</td>\n",
       "      <td>1135</td>\n",
       "      <td>Business Process.1135</td>\n",
       "      <td>31.75 mm</td>\n",
       "      <td>244.16 mm</td>\n",
       "      <td>318.08 mm</td>\n",
       "      <td>Behavior</td>\n",
       "      <td>Business Layer</td>\n",
       "      <td>...</td>\n",
       "      <td>4.57 mm</td>\n",
       "      <td>1.0</td>\n",
       "      <td>0.0</td>\n",
       "      <td>19.05 mm</td>\n",
       "      <td>3.0</td>\n",
       "      <td>15.88 mm</td>\n",
       "      <td>9.53 mm</td>\n",
       "      <td>15.88 mm</td>\n",
       "      <td>9.53 mm</td>\n",
       "      <td>31.75 mm</td>\n",
       "    </tr>\n",
       "  </tbody>\n",
       "</table>\n",
       "<p>1 rows × 30 columns</p>\n",
       "</div>"
      ],
      "text/plain": [
       "                           Displayed Text    Height            Master Name  \\\n",
       "24  Tag as sanctioned in the DLP solution  19.05 mm  Business Process.5006   \n",
       "\n",
       "    Shape ID             Shape Name     Width X Location Y Location  \\\n",
       "24      1135  Business Process.1135  31.75 mm  244.16 mm  318.08 mm   \n",
       "\n",
       "   ArchiMateAspect  ArchiMateLayer  ... IconWidth ShapeLayout ShowLayer  \\\n",
       "24        Behavior  Business Layer  ...   4.57 mm         1.0       0.0   \n",
       "\n",
       "   TextHeight TextLayout TextLocPinX TextLocPinY  TextPinX TextPinY TextWidth  \n",
       "24   19.05 mm        3.0    15.88 mm     9.53 mm  15.88 mm  9.53 mm  31.75 mm  \n",
       "\n",
       "[1 rows x 30 columns]"
      ]
     },
     "execution_count": 123,
     "metadata": {},
     "output_type": "execute_result"
    }
   ],
   "source": [
    "shapes.loc[shapes[\"Shape Name\"] == 'Business Process.1135']"
   ]
  },
  {
   "cell_type": "code",
   "execution_count": 124,
   "id": "56f80195",
   "metadata": {},
   "outputs": [
    {
     "data": {
      "text/html": [
       "<div>\n",
       "<style scoped>\n",
       "    .dataframe tbody tr th:only-of-type {\n",
       "        vertical-align: middle;\n",
       "    }\n",
       "\n",
       "    .dataframe tbody tr th {\n",
       "        vertical-align: top;\n",
       "    }\n",
       "\n",
       "    .dataframe thead th {\n",
       "        text-align: right;\n",
       "    }\n",
       "</style>\n",
       "<table border=\"1\" class=\"dataframe\">\n",
       "  <thead>\n",
       "    <tr style=\"text-align: right;\">\n",
       "      <th></th>\n",
       "      <th>Displayed Text</th>\n",
       "      <th>Height</th>\n",
       "      <th>Master Name</th>\n",
       "      <th>Shape ID</th>\n",
       "      <th>Shape Name</th>\n",
       "      <th>Width</th>\n",
       "      <th>X Location</th>\n",
       "      <th>Y Location</th>\n",
       "      <th>ArchiMateAspect</th>\n",
       "      <th>ArchiMateLayer</th>\n",
       "      <th>...</th>\n",
       "      <th>IconWidth</th>\n",
       "      <th>ShapeLayout</th>\n",
       "      <th>ShowLayer</th>\n",
       "      <th>TextHeight</th>\n",
       "      <th>TextLayout</th>\n",
       "      <th>TextLocPinX</th>\n",
       "      <th>TextLocPinY</th>\n",
       "      <th>TextPinX</th>\n",
       "      <th>TextPinY</th>\n",
       "      <th>TextWidth</th>\n",
       "    </tr>\n",
       "  </thead>\n",
       "  <tbody>\n",
       "    <tr>\n",
       "      <th>16</th>\n",
       "      <td>App access is restricted</td>\n",
       "      <td>19.05 mm</td>\n",
       "      <td>Business event</td>\n",
       "      <td>1091</td>\n",
       "      <td>Business event.1091</td>\n",
       "      <td>31.75 mm</td>\n",
       "      <td>293.72 mm</td>\n",
       "      <td>478.08 mm</td>\n",
       "      <td>Behavior</td>\n",
       "      <td>Business Layer</td>\n",
       "      <td>...</td>\n",
       "      <td>4.57 mm</td>\n",
       "      <td>1.0</td>\n",
       "      <td>0.0</td>\n",
       "      <td>19.05 mm</td>\n",
       "      <td>3.0</td>\n",
       "      <td>15.88 mm</td>\n",
       "      <td>9.53 mm</td>\n",
       "      <td>15.88 mm</td>\n",
       "      <td>9.53 mm</td>\n",
       "      <td>31.75 mm</td>\n",
       "    </tr>\n",
       "    <tr>\n",
       "      <th>28</th>\n",
       "      <td>App access is restricted</td>\n",
       "      <td>19.05 mm</td>\n",
       "      <td>Business event</td>\n",
       "      <td>1159</td>\n",
       "      <td>Business event.1159</td>\n",
       "      <td>31.75 mm</td>\n",
       "      <td>292.41 mm</td>\n",
       "      <td>318.08 mm</td>\n",
       "      <td>Behavior</td>\n",
       "      <td>Business Layer</td>\n",
       "      <td>...</td>\n",
       "      <td>4.57 mm</td>\n",
       "      <td>1.0</td>\n",
       "      <td>0.0</td>\n",
       "      <td>19.05 mm</td>\n",
       "      <td>3.0</td>\n",
       "      <td>15.88 mm</td>\n",
       "      <td>9.53 mm</td>\n",
       "      <td>15.88 mm</td>\n",
       "      <td>9.53 mm</td>\n",
       "      <td>31.75 mm</td>\n",
       "    </tr>\n",
       "  </tbody>\n",
       "</table>\n",
       "<p>2 rows × 30 columns</p>\n",
       "</div>"
      ],
      "text/plain": [
       "              Displayed Text    Height     Master Name  Shape ID  \\\n",
       "16  App access is restricted  19.05 mm  Business event      1091   \n",
       "28  App access is restricted  19.05 mm  Business event      1159   \n",
       "\n",
       "             Shape Name     Width X Location Y Location ArchiMateAspect  \\\n",
       "16  Business event.1091  31.75 mm  293.72 mm  478.08 mm        Behavior   \n",
       "28  Business event.1159  31.75 mm  292.41 mm  318.08 mm        Behavior   \n",
       "\n",
       "    ArchiMateLayer  ... IconWidth ShapeLayout ShowLayer TextHeight TextLayout  \\\n",
       "16  Business Layer  ...   4.57 mm         1.0       0.0   19.05 mm        3.0   \n",
       "28  Business Layer  ...   4.57 mm         1.0       0.0   19.05 mm        3.0   \n",
       "\n",
       "   TextLocPinX TextLocPinY  TextPinX TextPinY TextWidth  \n",
       "16    15.88 mm     9.53 mm  15.88 mm  9.53 mm  31.75 mm  \n",
       "28    15.88 mm     9.53 mm  15.88 mm  9.53 mm  31.75 mm  \n",
       "\n",
       "[2 rows x 30 columns]"
      ]
     },
     "execution_count": 124,
     "metadata": {},
     "output_type": "execute_result"
    }
   ],
   "source": [
    "shapes.loc[shapes[\"Displayed Text\"] == 'App access is restricted']"
   ]
  },
  {
   "cell_type": "code",
   "execution_count": 125,
   "id": "a2d71ef1",
   "metadata": {},
   "outputs": [
    {
     "data": {
      "text/html": [
       "<div>\n",
       "<style scoped>\n",
       "    .dataframe tbody tr th:only-of-type {\n",
       "        vertical-align: middle;\n",
       "    }\n",
       "\n",
       "    .dataframe tbody tr th {\n",
       "        vertical-align: top;\n",
       "    }\n",
       "\n",
       "    .dataframe thead th {\n",
       "        text-align: right;\n",
       "    }\n",
       "</style>\n",
       "<table border=\"1\" class=\"dataframe\">\n",
       "  <thead>\n",
       "    <tr style=\"text-align: right;\">\n",
       "      <th></th>\n",
       "      <th>ShapeKey</th>\n",
       "      <th>BeginX</th>\n",
       "      <th>EndX</th>\n",
       "      <th>BeginShape</th>\n",
       "      <th>EndShape</th>\n",
       "      <th>Shape Name</th>\n",
       "      <th>Relationship</th>\n",
       "    </tr>\n",
       "  </thead>\n",
       "  <tbody>\n",
       "  </tbody>\n",
       "</table>\n",
       "</div>"
      ],
      "text/plain": [
       "Empty DataFrame\n",
       "Columns: [ShapeKey, BeginX, EndX, BeginShape, EndShape, Shape Name, Relationship]\n",
       "Index: []"
      ]
     },
     "execution_count": 125,
     "metadata": {},
     "output_type": "execute_result"
    }
   ],
   "source": [
    "arrows.loc[arrows[\"BeginShape\"] == 'Business Process.12205']"
   ]
  },
  {
   "cell_type": "code",
   "execution_count": 126,
   "id": "5561ce84",
   "metadata": {},
   "outputs": [],
   "source": [
    "# Define arrow relationships\n",
    "\n",
    "relation_start = {\"Composition\": \"Composes\", \n",
    "                  \"Aggregation\" : \"Aggregates\", \n",
    "                  \"Assignment\": \"Assigns\", \n",
    "                  \"Realization\": \"Realises\", \n",
    "                  \"Serving\":\"Serves\", \n",
    "                  \"Access\":\"Accesses\", \n",
    "                  \"Influence\": \"Influences\", \n",
    "                  \"Association\" : \"Associated with\", \n",
    "                  \"Triggering\": \"Triggers\",\n",
    "                  \"Flow\": \"Flows to\", \n",
    "                  \"Specialization\" : \"Specialises\",\n",
    "                 \"AccessBoth\" : \"Access (both ways)\"}\n",
    "\n",
    "relation_end = {\"Composition\": \"Composed of\", \n",
    "                \"Aggregation\" : \"Aggregated from\", \n",
    "                \"Assignment\": \"Assigned by\", \n",
    "                  \"Realization\": \"Realised by\", \n",
    "                \"Serving\":\"Served by\", \n",
    "                \"Access\":\"Accessed by\", \n",
    "                \"Influence\": \"Influenced by\", \n",
    "                  \"Association\" : \"Associated with\", \n",
    "                \"Triggering\": \"Triggered by\", \n",
    "                \"Flow\": \"Flows from\", \n",
    "                  \"Specialization\" : \"Specialises\",\n",
    "               \"AccessBoth\": \"Access (both ways)\"}"
   ]
  },
  {
   "cell_type": "markdown",
   "id": "32b21d9f",
   "metadata": {},
   "source": [
    "Now, let's start initialising the elements table!"
   ]
  },
  {
   "cell_type": "code",
   "execution_count": 127,
   "id": "2296c129",
   "metadata": {},
   "outputs": [],
   "source": [
    "def create_elements_table(shapes,arrows):\n",
    "    \n",
    "    oneline = []\n",
    "    for sh in list(shapes[\"Shape Name\"]):\n",
    "        relations = []\n",
    "        related_shape =[]\n",
    "        all_arrows_start = arrows.loc[arrows[\"BeginShape\"] == sh]\n",
    "        all_arrows_end = arrows.loc[arrows[\"EndShape\"] == sh]\n",
    "        status = \"Existing\"\n",
    "        shapetext = list(shapes.loc[shapes[\"Shape Name\"] == sh][\"Displayed Text\"])[0]\n",
    "        shapetype = list(shapes.loc[shapes[\"Shape Name\"] == sh][\"ArchiMateType\"])[0]\n",
    "        if len(all_arrows_end)==0 and len(all_arrows_start)==0:\n",
    "            oneline.append([status,shapetext,shapetype,None,\"N/A\",\"N/A\"])\n",
    "        for i in range(len(all_arrows_end)):\n",
    "            item = list(all_arrows_end[\"Relationship\"])[i]\n",
    "            shapeid = list(all_arrows_end[\"BeginShape\"])[i]\n",
    "            relationship = relation_end[item]\n",
    "            related_shape = list(shapes.loc[shapes[\"Shape Name\"] == shapeid][\"Displayed Text\"])[0]\n",
    "            oneline.append([status,shapetext,shapetype,None,relationship,related_shape])\n",
    "        for i in range(len(all_arrows_start)):\n",
    "            item = list(all_arrows_start[\"Relationship\"])[i]\n",
    "            shapeid = list(all_arrows_start[\"EndShape\"])[i]\n",
    "            relationship = relation_start[item]\n",
    "            related_shape = list(shapes.loc[shapes[\"Shape Name\"] == shapeid][\"Displayed Text\"])[0]\n",
    "            oneline.append([status,shapetext,shapetype,None,relationship,related_shape])\n",
    "    \n",
    "    elem = pd.DataFrame(oneline, columns = ['Status','Name', 'Type', 'Description', 'Relationship','Related to'] )\n",
    "    elem[\"ID\"] = elem[\"Name\"]+ elem[\"Type\"]\n",
    "    \n",
    "    return elem"
   ]
  },
  {
   "cell_type": "code",
   "execution_count": 128,
   "id": "546c9b9e",
   "metadata": {},
   "outputs": [],
   "source": [
    "elem = create_elements_table(shapes, arrows)"
   ]
  },
  {
   "cell_type": "code",
   "execution_count": 129,
   "id": "b9981128",
   "metadata": {},
   "outputs": [
    {
     "name": "stderr",
     "output_type": "stream",
     "text": [
      "C:\\Users\\MB273QG\\AppData\\Local\\Temp/ipykernel_27012/2691430400.py:9: SettingWithCopyWarning: \n",
      "A value is trying to be set on a copy of a slice from a DataFrame.\n",
      "Try using .loc[row_indexer,col_indexer] = value instead\n",
      "\n",
      "See the caveats in the documentation: https://pandas.pydata.org/pandas-docs/stable/user_guide/indexing.html#returning-a-view-versus-a-copy\n",
      "  temp[\"RelKey\"] = temp[\"Relationship\"] + temp[\"Related to\"]\n"
     ]
    }
   ],
   "source": [
    "newline = []\n",
    "for item in set(list(elem[\"ID\"])):\n",
    "    temp = elem.loc[elem[\"ID\"] == item]\n",
    "    \n",
    "    newstatus = list(temp[\"Status\"])[0]\n",
    "    newname = list(temp[\"Name\"])[0]\n",
    "    newtype = list(temp[\"Type\"])[0]\n",
    "    \n",
    "    temp[\"RelKey\"] = temp[\"Relationship\"] + temp[\"Related to\"]\n",
    "    temp = temp.drop_duplicates(subset=[\"RelKey\"])\n",
    "    \n",
    "    n = 1\n",
    "    newrel = ''\n",
    "    newshape = ''\n",
    "    \n",
    "    if len(temp) >1:\n",
    "        for i in range(len(temp)):\n",
    "            if list(temp[\"Relationship\"])[i] != \"N/A\":\n",
    "                newrel += str(n) +'. ' + list(temp[\"Relationship\"])[i]\n",
    "                newshape += str(n) + '. ' + list(temp[\"Related to\"])[i]\n",
    "                if i < len(temp) - 1:\n",
    "                    newrel += '\\n'\n",
    "                    newshape += '\\n'\n",
    "                n+=1\n",
    "    else:\n",
    "        newrel = list(temp[\"Relationship\"])[0]\n",
    "        newshape = list(temp[\"Related to\"])[0]\n",
    "    \n",
    "    newline.append([newstatus,newname,newtype,None,newrel,newshape])\n",
    "    \n",
    "newelem = pd.DataFrame(newline, columns = ['Status','Name', 'Type', 'Description', 'Relationship','Related to'] )"
   ]
  },
  {
   "cell_type": "code",
   "execution_count": 3,
   "id": "8592dfa6",
   "metadata": {},
   "outputs": [],
   "source": [
    "#newelem"
   ]
  },
  {
   "cell_type": "markdown",
   "id": "8058e4d8",
   "metadata": {},
   "source": [
    "Done! Now, save the file (make sure to change path name each time)."
   ]
  },
  {
   "cell_type": "code",
   "execution_count": 131,
   "id": "0f1387b3",
   "metadata": {},
   "outputs": [],
   "source": [
    "newelem.to_csv(\"C:/Users/MB273QG/Downloads/DLPResultsExports/\"+name+\".csv\")"
   ]
  },
  {
   "cell_type": "code",
   "execution_count": null,
   "id": "c3d60498",
   "metadata": {},
   "outputs": [],
   "source": []
  }
 ],
 "metadata": {
  "kernelspec": {
   "display_name": "Python 3 (ipykernel)",
   "language": "python",
   "name": "python3"
  },
  "language_info": {
   "codemirror_mode": {
    "name": "ipython",
    "version": 3
   },
   "file_extension": ".py",
   "mimetype": "text/x-python",
   "name": "python",
   "nbconvert_exporter": "python",
   "pygments_lexer": "ipython3",
   "version": "3.9.7"
  }
 },
 "nbformat": 4,
 "nbformat_minor": 5
}
